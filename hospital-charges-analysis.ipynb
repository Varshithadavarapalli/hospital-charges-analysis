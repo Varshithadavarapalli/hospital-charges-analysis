{
  "cells": [
    {
      "cell_type": "markdown",
      "metadata": {
        "id": "view-in-github",
        "colab_type": "text"
      },
      "source": [
        "<a href=\"https://colab.research.google.com/github/Varshithadavarapalli/hospital-charges-analysis/blob/main/hospital-charges-analysis.ipynb\" target=\"_parent\"><img src=\"https://colab.research.google.com/assets/colab-badge.svg\" alt=\"Open In Colab\"/></a>"
      ]
    },
    {
      "cell_type": "code",
      "source": [
        "import pandas as pd\n",
        "\n",
        "# ✅ Load the datasets\n",
        "file_path1 = \"/inpatientCharges.csv\"\n",
        "file_path2 = \"/Hospital General Information.csv\"\n",
        "\n",
        "df_charges = pd.read_csv(file_path1, encoding=\"ISO-8859-1\")\n",
        "df_hospital_info = pd.read_csv(file_path2, encoding=\"ISO-8859-1\")\n",
        "\n",
        "# ✅ Standardize column names for merging\n",
        "df_charges.rename(columns={'Provider Id': 'Provider ID'}, inplace=True)\n",
        "\n",
        "# ✅ Perform an INNER JOIN on 'Provider ID' (keeping only matching hospitals)\n",
        "df_merged = pd.merge(df_charges, df_hospital_info, on=\"Provider ID\", how=\"outer\")\n",
        "\n",
        "# ✅ Display the first few rows of the merged dataset\n",
        "print(df_merged.head())\n",
        "\n",
        "# ✅ Save the merged dataset to a new CSV file\n",
        "df_merged.to_csv(\"merged_hospital_data.csv\", index=False)\n"
      ],
      "metadata": {
        "colab": {
          "base_uri": "https://localhost:8080/"
        },
        "id": "DTu-NnlSQpPt",
        "outputId": "fe6a3008-ebdc-4a3a-df26-c17bccccbd1b"
      },
      "execution_count": 3,
      "outputs": [
        {
          "output_type": "stream",
          "name": "stdout",
          "text": [
            "                                      DRG Definition  Provider ID  \\\n",
            "0           039 - EXTRACRANIAL PROCEDURES W/O CC/MCC        10001   \n",
            "1  057 - DEGENERATIVE NERVOUS SYSTEM DISORDERS W/...        10001   \n",
            "2  064 - INTRACRANIAL HEMORRHAGE OR CEREBRAL INFA...        10001   \n",
            "3  065 - INTRACRANIAL HEMORRHAGE OR CEREBRAL INFA...        10001   \n",
            "4  066 - INTRACRANIAL HEMORRHAGE OR CEREBRAL INFA...        10001   \n",
            "\n",
            "                      Provider Name Provider Street Address Provider City  \\\n",
            "0  SOUTHEAST ALABAMA MEDICAL CENTER  1108 ROSS CLARK CIRCLE        DOTHAN   \n",
            "1  SOUTHEAST ALABAMA MEDICAL CENTER  1108 ROSS CLARK CIRCLE        DOTHAN   \n",
            "2  SOUTHEAST ALABAMA MEDICAL CENTER  1108 ROSS CLARK CIRCLE        DOTHAN   \n",
            "3  SOUTHEAST ALABAMA MEDICAL CENTER  1108 ROSS CLARK CIRCLE        DOTHAN   \n",
            "4  SOUTHEAST ALABAMA MEDICAL CENTER  1108 ROSS CLARK CIRCLE        DOTHAN   \n",
            "\n",
            "  Provider State  Provider Zip Code Hospital Referral Region Description  \\\n",
            "0             AL            36301.0                          AL - Dothan   \n",
            "1             AL            36301.0                          AL - Dothan   \n",
            "2             AL            36301.0                          AL - Dothan   \n",
            "3             AL            36301.0                          AL - Dothan   \n",
            "4             AL            36301.0                          AL - Dothan   \n",
            "\n",
            "    Total Discharges   Average Covered Charges   ...  \\\n",
            "0                91.0                 $32963.07  ...   \n",
            "1                38.0                 $20312.78  ...   \n",
            "2                84.0                 $38820.39  ...   \n",
            "3               169.0                 $27345.10  ...   \n",
            "4                33.0                 $17605.51  ...   \n",
            "\n",
            "  Readmission national comparison Readmission national comparison footnote  \\\n",
            "0    Same as the national average                                      NaN   \n",
            "1    Same as the national average                                      NaN   \n",
            "2    Same as the national average                                      NaN   \n",
            "3    Same as the national average                                      NaN   \n",
            "4    Same as the national average                                      NaN   \n",
            "\n",
            "  Patient experience national comparison  \\\n",
            "0             Below the national average   \n",
            "1             Below the national average   \n",
            "2             Below the national average   \n",
            "3             Below the national average   \n",
            "4             Below the national average   \n",
            "\n",
            "  Patient experience national comparison footnote  \\\n",
            "0                                             NaN   \n",
            "1                                             NaN   \n",
            "2                                             NaN   \n",
            "3                                             NaN   \n",
            "4                                             NaN   \n",
            "\n",
            "  Effectiveness of care national comparison  \\\n",
            "0              Same as the national average   \n",
            "1              Same as the national average   \n",
            "2              Same as the national average   \n",
            "3              Same as the national average   \n",
            "4              Same as the national average   \n",
            "\n",
            "  Effectiveness of care national comparison footnote  \\\n",
            "0                                                NaN   \n",
            "1                                                NaN   \n",
            "2                                                NaN   \n",
            "3                                                NaN   \n",
            "4                                                NaN   \n",
            "\n",
            "   Timeliness of care national comparison  \\\n",
            "0            Same as the national average   \n",
            "1            Same as the national average   \n",
            "2            Same as the national average   \n",
            "3            Same as the national average   \n",
            "4            Same as the national average   \n",
            "\n",
            "  Timeliness of care national comparison footnote  \\\n",
            "0                                             NaN   \n",
            "1                                             NaN   \n",
            "2                                             NaN   \n",
            "3                                             NaN   \n",
            "4                                             NaN   \n",
            "\n",
            "   Efficient use of medical imaging national comparison  \\\n",
            "0                       Same as the national average      \n",
            "1                       Same as the national average      \n",
            "2                       Same as the national average      \n",
            "3                       Same as the national average      \n",
            "4                       Same as the national average      \n",
            "\n",
            "  Efficient use of medical imaging national comparison footnote  \n",
            "0                                                NaN             \n",
            "1                                                NaN             \n",
            "2                                                NaN             \n",
            "3                                                NaN             \n",
            "4                                                NaN             \n",
            "\n",
            "[5 rows x 39 columns]\n"
          ]
        }
      ]
    },
    {
      "cell_type": "code",
      "source": [
        "# ✅ Step 4: Check for Missing Values After Merging\n",
        "\n",
        "# Count missing values in each column\n",
        "missing_values = df_merged.isnull().sum()\n",
        "\n",
        "# Display only columns with missing values\n",
        "missing_values[missing_values > 0]\n"
      ],
      "metadata": {
        "colab": {
          "base_uri": "https://localhost:8080/",
          "height": 1000
        },
        "id": "yD6gGwzWSjMS",
        "outputId": "f654380e-fca2-4e2e-b03e-63474f6adb8f"
      },
      "execution_count": 4,
      "outputs": [
        {
          "output_type": "execute_result",
          "data": {
            "text/plain": [
              "DRG Definition                                                     1703\n",
              "Provider Name                                                      1703\n",
              "Provider Street Address                                            1703\n",
              "Provider City                                                      1703\n",
              "Provider State                                                     1703\n",
              "Provider Zip Code                                                  1703\n",
              "Hospital Referral Region Description                               1703\n",
              " Total Discharges                                                  1703\n",
              " Average Covered Charges                                           1703\n",
              " Average Total Payments                                            1703\n",
              "Average Medicare Payments                                          1703\n",
              "Hospital Name                                                      4996\n",
              "Address                                                            4996\n",
              "City                                                               4996\n",
              "State                                                              4996\n",
              "ZIP Code                                                           4996\n",
              "County Name                                                        5028\n",
              "Phone Number                                                       4996\n",
              "Hospital Type                                                      4996\n",
              "Hospital Ownership                                                 4996\n",
              "Emergency Services                                                 4996\n",
              "Meets criteria for meaningful use of EHRs                          5335\n",
              "Hospital overall rating                                            4996\n",
              "Hospital overall rating footnote                                 159702\n",
              "Mortality national comparison                                      4996\n",
              "Mortality national comparison footnote                           159433\n",
              "Safety of care national comparison                                 4996\n",
              "Safety of care national comparison footnote                      154643\n",
              "Readmission national comparison                                    4996\n",
              "Readmission national comparison footnote                         160184\n",
              "Patient experience national comparison                             4996\n",
              "Patient experience national comparison footnote                  159357\n",
              "Effectiveness of care national comparison                          4996\n",
              "Effectiveness of care national comparison footnote               160122\n",
              "Timeliness of care national comparison                             4996\n",
              "Timeliness of care national comparison footnote                  159539\n",
              "Efficient use of medical imaging national comparison               4996\n",
              "Efficient use of medical imaging national comparison footnote    150349\n",
              "dtype: int64"
            ],
            "text/html": [
              "<div>\n",
              "<style scoped>\n",
              "    .dataframe tbody tr th:only-of-type {\n",
              "        vertical-align: middle;\n",
              "    }\n",
              "\n",
              "    .dataframe tbody tr th {\n",
              "        vertical-align: top;\n",
              "    }\n",
              "\n",
              "    .dataframe thead th {\n",
              "        text-align: right;\n",
              "    }\n",
              "</style>\n",
              "<table border=\"1\" class=\"dataframe\">\n",
              "  <thead>\n",
              "    <tr style=\"text-align: right;\">\n",
              "      <th></th>\n",
              "      <th>0</th>\n",
              "    </tr>\n",
              "  </thead>\n",
              "  <tbody>\n",
              "    <tr>\n",
              "      <th>DRG Definition</th>\n",
              "      <td>1703</td>\n",
              "    </tr>\n",
              "    <tr>\n",
              "      <th>Provider Name</th>\n",
              "      <td>1703</td>\n",
              "    </tr>\n",
              "    <tr>\n",
              "      <th>Provider Street Address</th>\n",
              "      <td>1703</td>\n",
              "    </tr>\n",
              "    <tr>\n",
              "      <th>Provider City</th>\n",
              "      <td>1703</td>\n",
              "    </tr>\n",
              "    <tr>\n",
              "      <th>Provider State</th>\n",
              "      <td>1703</td>\n",
              "    </tr>\n",
              "    <tr>\n",
              "      <th>Provider Zip Code</th>\n",
              "      <td>1703</td>\n",
              "    </tr>\n",
              "    <tr>\n",
              "      <th>Hospital Referral Region Description</th>\n",
              "      <td>1703</td>\n",
              "    </tr>\n",
              "    <tr>\n",
              "      <th>Total Discharges</th>\n",
              "      <td>1703</td>\n",
              "    </tr>\n",
              "    <tr>\n",
              "      <th>Average Covered Charges</th>\n",
              "      <td>1703</td>\n",
              "    </tr>\n",
              "    <tr>\n",
              "      <th>Average Total Payments</th>\n",
              "      <td>1703</td>\n",
              "    </tr>\n",
              "    <tr>\n",
              "      <th>Average Medicare Payments</th>\n",
              "      <td>1703</td>\n",
              "    </tr>\n",
              "    <tr>\n",
              "      <th>Hospital Name</th>\n",
              "      <td>4996</td>\n",
              "    </tr>\n",
              "    <tr>\n",
              "      <th>Address</th>\n",
              "      <td>4996</td>\n",
              "    </tr>\n",
              "    <tr>\n",
              "      <th>City</th>\n",
              "      <td>4996</td>\n",
              "    </tr>\n",
              "    <tr>\n",
              "      <th>State</th>\n",
              "      <td>4996</td>\n",
              "    </tr>\n",
              "    <tr>\n",
              "      <th>ZIP Code</th>\n",
              "      <td>4996</td>\n",
              "    </tr>\n",
              "    <tr>\n",
              "      <th>County Name</th>\n",
              "      <td>5028</td>\n",
              "    </tr>\n",
              "    <tr>\n",
              "      <th>Phone Number</th>\n",
              "      <td>4996</td>\n",
              "    </tr>\n",
              "    <tr>\n",
              "      <th>Hospital Type</th>\n",
              "      <td>4996</td>\n",
              "    </tr>\n",
              "    <tr>\n",
              "      <th>Hospital Ownership</th>\n",
              "      <td>4996</td>\n",
              "    </tr>\n",
              "    <tr>\n",
              "      <th>Emergency Services</th>\n",
              "      <td>4996</td>\n",
              "    </tr>\n",
              "    <tr>\n",
              "      <th>Meets criteria for meaningful use of EHRs</th>\n",
              "      <td>5335</td>\n",
              "    </tr>\n",
              "    <tr>\n",
              "      <th>Hospital overall rating</th>\n",
              "      <td>4996</td>\n",
              "    </tr>\n",
              "    <tr>\n",
              "      <th>Hospital overall rating footnote</th>\n",
              "      <td>159702</td>\n",
              "    </tr>\n",
              "    <tr>\n",
              "      <th>Mortality national comparison</th>\n",
              "      <td>4996</td>\n",
              "    </tr>\n",
              "    <tr>\n",
              "      <th>Mortality national comparison footnote</th>\n",
              "      <td>159433</td>\n",
              "    </tr>\n",
              "    <tr>\n",
              "      <th>Safety of care national comparison</th>\n",
              "      <td>4996</td>\n",
              "    </tr>\n",
              "    <tr>\n",
              "      <th>Safety of care national comparison footnote</th>\n",
              "      <td>154643</td>\n",
              "    </tr>\n",
              "    <tr>\n",
              "      <th>Readmission national comparison</th>\n",
              "      <td>4996</td>\n",
              "    </tr>\n",
              "    <tr>\n",
              "      <th>Readmission national comparison footnote</th>\n",
              "      <td>160184</td>\n",
              "    </tr>\n",
              "    <tr>\n",
              "      <th>Patient experience national comparison</th>\n",
              "      <td>4996</td>\n",
              "    </tr>\n",
              "    <tr>\n",
              "      <th>Patient experience national comparison footnote</th>\n",
              "      <td>159357</td>\n",
              "    </tr>\n",
              "    <tr>\n",
              "      <th>Effectiveness of care national comparison</th>\n",
              "      <td>4996</td>\n",
              "    </tr>\n",
              "    <tr>\n",
              "      <th>Effectiveness of care national comparison footnote</th>\n",
              "      <td>160122</td>\n",
              "    </tr>\n",
              "    <tr>\n",
              "      <th>Timeliness of care national comparison</th>\n",
              "      <td>4996</td>\n",
              "    </tr>\n",
              "    <tr>\n",
              "      <th>Timeliness of care national comparison footnote</th>\n",
              "      <td>159539</td>\n",
              "    </tr>\n",
              "    <tr>\n",
              "      <th>Efficient use of medical imaging national comparison</th>\n",
              "      <td>4996</td>\n",
              "    </tr>\n",
              "    <tr>\n",
              "      <th>Efficient use of medical imaging national comparison footnote</th>\n",
              "      <td>150349</td>\n",
              "    </tr>\n",
              "  </tbody>\n",
              "</table>\n",
              "</div><br><label><b>dtype:</b> int64</label>"
            ]
          },
          "metadata": {},
          "execution_count": 4
        }
      ]
    },
    {
      "cell_type": "code",
      "source": [
        "print(df_merged.columns)\n"
      ],
      "metadata": {
        "colab": {
          "base_uri": "https://localhost:8080/"
        },
        "id": "lHmwdJnQT9Rb",
        "outputId": "a76361fd-7f99-4f4f-d282-74fed4a6f5a5"
      },
      "execution_count": 6,
      "outputs": [
        {
          "output_type": "stream",
          "name": "stdout",
          "text": [
            "Index(['DRG Definition', 'Provider ID', 'Provider Name',\n",
            "       'Provider Street Address', 'Provider City', 'Provider State',\n",
            "       'Provider Zip Code', 'Hospital Referral Region Description',\n",
            "       ' Total Discharges ', ' Average Covered Charges ',\n",
            "       ' Average Total Payments ', 'Average Medicare Payments',\n",
            "       'Hospital Name', 'Address', 'City', 'State', 'ZIP Code', 'County Name',\n",
            "       'Phone Number', 'Hospital Type', 'Hospital Ownership',\n",
            "       'Emergency Services', 'Meets criteria for meaningful use of EHRs',\n",
            "       'Hospital overall rating', 'Mortality national comparison',\n",
            "       'Safety of care national comparison', 'Readmission national comparison',\n",
            "       'Patient experience national comparison',\n",
            "       'Effectiveness of care national comparison',\n",
            "       'Timeliness of care national comparison',\n",
            "       'Efficient use of medical imaging national comparison'],\n",
            "      dtype='object')\n"
          ]
        }
      ]
    },
    {
      "cell_type": "code",
      "source": [
        "df_merged.columns = df_merged.columns.str.strip()\n"
      ],
      "metadata": {
        "id": "N_644_efUafO"
      },
      "execution_count": 8,
      "outputs": []
    },
    {
      "cell_type": "code",
      "source": [
        "print(df_merged.columns)  # Ensure spaces are removed\n",
        "print(df_merged[\"Total Discharges\"].head())  # Should work now\n"
      ],
      "metadata": {
        "colab": {
          "base_uri": "https://localhost:8080/"
        },
        "id": "eKpw119fUcj3",
        "outputId": "4f81f7ce-bfc8-4ce2-8a97-30d6479a7b06"
      },
      "execution_count": 9,
      "outputs": [
        {
          "output_type": "stream",
          "name": "stdout",
          "text": [
            "Index(['DRG Definition', 'Provider ID', 'Provider Name',\n",
            "       'Provider Street Address', 'Provider City', 'Provider State',\n",
            "       'Provider Zip Code', 'Hospital Referral Region Description',\n",
            "       'Total Discharges', 'Average Covered Charges', 'Average Total Payments',\n",
            "       'Average Medicare Payments', 'Hospital Name', 'Address', 'City',\n",
            "       'State', 'ZIP Code', 'County Name', 'Phone Number', 'Hospital Type',\n",
            "       'Hospital Ownership', 'Emergency Services',\n",
            "       'Meets criteria for meaningful use of EHRs', 'Hospital overall rating',\n",
            "       'Mortality national comparison', 'Safety of care national comparison',\n",
            "       'Readmission national comparison',\n",
            "       'Patient experience national comparison',\n",
            "       'Effectiveness of care national comparison',\n",
            "       'Timeliness of care national comparison',\n",
            "       'Efficient use of medical imaging national comparison'],\n",
            "      dtype='object')\n",
            "0     91.0\n",
            "1     38.0\n",
            "2     84.0\n",
            "3    169.0\n",
            "4     33.0\n",
            "Name: Total Discharges, dtype: float64\n"
          ]
        }
      ]
    },
    {
      "cell_type": "code",
      "source": [
        "# ✅ Remove dollar signs ($) and convert to numeric values\n",
        "financial_columns = [\"Total Discharges\", \"Average Covered Charges\",\n",
        "                     \"Average Total Payments\", \"Average Medicare Payments\"]\n",
        "\n",
        "# Strip spaces from column names to ensure proper access\n",
        "df_merged.columns = df_merged.columns.str.strip()\n",
        "\n",
        "# Convert financial columns to numeric\n",
        "for col in financial_columns:\n",
        "    df_merged[col] = df_merged[col].astype(str)  # Convert to string (safe step)\n",
        "    df_merged[col] = df_merged[col].str.replace(\"[$,]\", \"\", regex=True)  # Remove $ and ,\n",
        "    df_merged[col] = pd.to_numeric(df_merged[col], errors=\"coerce\")  # Convert to numbers\n"
      ],
      "metadata": {
        "id": "G2sVIIyOU16q"
      },
      "execution_count": 11,
      "outputs": []
    },
    {
      "cell_type": "code",
      "source": [
        "# ✅ Fill missing financial data with median values\n",
        "for col in financial_columns:\n",
        "    df_merged[col] = df_merged[col].fillna(df_merged[col].median())\n"
      ],
      "metadata": {
        "id": "FuU-FGQQU6IT"
      },
      "execution_count": 13,
      "outputs": []
    },
    {
      "cell_type": "code",
      "source": [
        "#✅ Drop unnecessary footnote columns\n",
        "footnote_columns = [col for col in df_merged.columns if \"footnote\" in col.lower()]\n",
        "df_merged.drop(columns=footnote_columns, inplace=True)\n",
        "\n",
        "# ✅ Fill missing hospital details with \"Unknown\"\n",
        "hospital_details = [\"Hospital Name\", \"Address\", \"City\", \"State\", \"ZIP Code\", \"County Name\",\n",
        "                    \"Phone Number\", \"Hospital Type\", \"Hospital Ownership\", \"Emergency Services\"]\n",
        "df_merged[hospital_details] = df_merged[hospital_details].fillna(\"Unknown\")\n",
        "\n",
        "# ✅ Fill missing financial data with median values\n",
        "financial_columns = [\"Total Discharges\", \"Average Covered Charges\",\n",
        "                     \"Average Total Payments\", \"Average Medicare Payments\"]\n",
        "\n",
        "for col in financial_columns:\n",
        "    df_merged[col] = df_merged[col].fillna(df_merged[col].median())\n",
        "\n",
        "# ✅ Fill missing quality metrics with \"Not Available\"\n",
        "quality_columns = [\"Mortality national comparison\", \"Safety of care national comparison\",\n",
        "                   \"Readmission national comparison\", \"Patient experience national comparison\",\n",
        "                   \"Effectiveness of care national comparison\", \"Timeliness of care national comparison\",\n",
        "                   \"Efficient use of medical imaging national comparison\"]\n",
        "df_merged[quality_columns] = df_merged[quality_columns].fillna(\"Not Available\")\n",
        "\n",
        "# ✅ Check again for missing values\n",
        "print(df_merged.isnull().sum().sum())  # Should return 0 if all missing values are handled"
      ],
      "metadata": {
        "colab": {
          "base_uri": "https://localhost:8080/"
        },
        "id": "pgLmYa5EVFWP",
        "outputId": "46aa3930-0cfa-4105-bcb0-7889b809f975"
      },
      "execution_count": 15,
      "outputs": [
        {
          "output_type": "stream",
          "name": "stdout",
          "text": [
            "22252\n"
          ]
        }
      ]
    },
    {
      "cell_type": "code",
      "source": [
        "df_merged[quality_columns] = df_merged[quality_columns].astype(str)\n"
      ],
      "metadata": {
        "id": "N-liR1moXNjm"
      },
      "execution_count": 16,
      "outputs": []
    },
    {
      "cell_type": "code",
      "source": [
        "for col in financial_columns:\n",
        "    df_merged[col] = pd.to_numeric(df_merged[col], errors=\"coerce\")\n"
      ],
      "metadata": {
        "id": "H2rgjvnVXPK9"
      },
      "execution_count": 17,
      "outputs": []
    },
    {
      "cell_type": "code",
      "source": [
        "print(\"Total Missing Values After Cleaning:\", df_merged.isnull().sum().sum())\n"
      ],
      "metadata": {
        "colab": {
          "base_uri": "https://localhost:8080/"
        },
        "id": "6KpRWRDjXR69",
        "outputId": "a1b341db-36d2-4184-c7bb-b61b3f2e1274"
      },
      "execution_count": 18,
      "outputs": [
        {
          "output_type": "stream",
          "name": "stdout",
          "text": [
            "Total Missing Values After Cleaning: 22252\n"
          ]
        }
      ]
    },
    {
      "cell_type": "code",
      "source": [
        "# ✅ 1. Drop unnecessary footnote columns (if not already done)\n",
        "footnote_columns = [col for col in df_merged.columns if \"footnote\" in col.lower()]\n",
        "df_merged.drop(columns=footnote_columns, inplace=True)\n",
        "\n",
        "# ✅ 2. Fill missing hospital details with \"Unknown\"\n",
        "hospital_details = [\"Hospital Name\", \"Address\", \"City\", \"State\", \"ZIP Code\", \"County Name\",\n",
        "                    \"Phone Number\", \"Hospital Type\", \"Hospital Ownership\", \"Emergency Services\"]\n",
        "\n",
        "df_merged[hospital_details] = df_merged[hospital_details].fillna(\"Unknown\")\n",
        "\n",
        "# ✅ 3. Convert financial columns to numeric & Fill missing financial data with median values\n",
        "financial_columns = [\"Total Discharges\", \"Average Covered Charges\",\n",
        "                     \"Average Total Payments\", \"Average Medicare Payments\"]\n",
        "\n",
        "for col in financial_columns:\n",
        "    df_merged[col] = df_merged[col].astype(str).str.replace(\"[$,]\", \"\", regex=True)  # Remove $ and ,\n",
        "    df_merged[col] = pd.to_numeric(df_merged[col], errors=\"coerce\")  # Convert to numbers\n",
        "    df_merged[col] = df_merged[col].fillna(df_merged[col].median())  # Fill missing values\n",
        "\n",
        "# ✅ 4. Fill missing quality metrics with \"Not Available\"\n",
        "quality_columns = [\"Mortality national comparison\", \"Safety of care national comparison\",\n",
        "                   \"Readmission national comparison\", \"Patient experience national comparison\",\n",
        "                   \"Effectiveness of care national comparison\", \"Timeliness of care national comparison\",\n",
        "                   \"Efficient use of medical imaging national comparison\"]\n",
        "\n",
        "df_merged[quality_columns] = df_merged[quality_columns].fillna(\"Not Available\")\n",
        "\n",
        "# ✅ 5. Check if missing values are now 0\n",
        "total_missing_values = df_merged.isnull().sum().sum()\n",
        "print(\"✅ Final Missing Values After Fix:\", total_missing_values)  # Should be 0\n"
      ],
      "metadata": {
        "colab": {
          "base_uri": "https://localhost:8080/"
        },
        "id": "oU35rsZJXwSK",
        "outputId": "654858bf-2fa9-4091-8007-beec10dc8933"
      },
      "execution_count": 19,
      "outputs": [
        {
          "output_type": "stream",
          "name": "stdout",
          "text": [
            "✅ Final Missing Values After Fix: 22252\n"
          ]
        }
      ]
    },
    {
      "cell_type": "code",
      "source": [
        "# Identify columns with missing values\n",
        "missing_summary = df_merged.isnull().sum()\n",
        "missing_columns = missing_summary[missing_summary > 0]\n",
        "print(\"Columns with Missing Values:\\n\", missing_columns)\n"
      ],
      "metadata": {
        "colab": {
          "base_uri": "https://localhost:8080/"
        },
        "id": "9D1B_OvdYBzC",
        "outputId": "841059f1-a703-4292-c2eb-63572f626bba"
      },
      "execution_count": 20,
      "outputs": [
        {
          "output_type": "stream",
          "name": "stdout",
          "text": [
            "Columns with Missing Values:\n",
            " DRG Definition                               1703\n",
            "Provider Name                                1703\n",
            "Provider Street Address                      1703\n",
            "Provider City                                1703\n",
            "Provider State                               1703\n",
            "Provider Zip Code                            1703\n",
            "Hospital Referral Region Description         1703\n",
            "Meets criteria for meaningful use of EHRs    5335\n",
            "Hospital overall rating                      4996\n",
            "dtype: int64\n"
          ]
        }
      ]
    },
    {
      "cell_type": "code",
      "source": [
        "location_columns = [\"DRG Definition\", \"Provider Name\", \"Provider Street Address\",\n",
        "                    \"Provider City\", \"Provider State\", \"Provider Zip Code\",\n",
        "                    \"Hospital Referral Region Description\"]\n",
        "\n",
        "df_merged[location_columns] = df_merged[location_columns].fillna(\"Unknown\")\n"
      ],
      "metadata": {
        "id": "C4IYqBzEYup8"
      },
      "execution_count": 21,
      "outputs": []
    },
    {
      "cell_type": "code",
      "source": [
        "df_merged[\"Meets criteria for meaningful use of EHRs\"] = df_merged[\"Meets criteria for meaningful use of EHRs\"].fillna(\"No Data\")\n"
      ],
      "metadata": {
        "id": "R348bAhoYxYJ"
      },
      "execution_count": 22,
      "outputs": []
    },
    {
      "cell_type": "code",
      "source": [
        "df_merged[\"Hospital overall rating\"] = df_merged[\"Hospital overall rating\"].fillna(\"Not Rated\")\n"
      ],
      "metadata": {
        "id": "LC_i1C2QY2YS"
      },
      "execution_count": 23,
      "outputs": []
    },
    {
      "cell_type": "code",
      "source": [
        "print(\"Final Missing Values Count:\", df_merged.isnull().sum().sum())  # Should return 0\n"
      ],
      "metadata": {
        "colab": {
          "base_uri": "https://localhost:8080/"
        },
        "id": "tnoaNRkfY3sZ",
        "outputId": "44b63e52-b377-4f47-d7d2-6a40f7066421"
      },
      "execution_count": 24,
      "outputs": [
        {
          "output_type": "stream",
          "name": "stdout",
          "text": [
            "Final Missing Values Count: 0\n"
          ]
        }
      ]
    },
    {
      "cell_type": "code",
      "source": [
        "df_merged.to_csv(\"cleaned_hospital_data.csv\", index=False)\n"
      ],
      "metadata": {
        "id": "lql49WHfZ7dR"
      },
      "execution_count": 25,
      "outputs": []
    },
    {
      "cell_type": "code",
      "source": [
        "import pandas as pd\n",
        "\n",
        "# Load the cleaned dataset (update the file path if needed)\n",
        "file_path = \"cleaned_hospital_data.csv\"\n",
        "df_cleaned = pd.read_csv(file_path, encoding=\"ISO-8859-1\")\n",
        "\n",
        "# Verify the first few rows\n",
        "print(df_cleaned.head())\n",
        "\n",
        "# Check for any remaining missing values\n",
        "print(\"Total Missing Values:\", df_cleaned.isnull().sum().sum())  # Should return 0\n"
      ],
      "metadata": {
        "colab": {
          "base_uri": "https://localhost:8080/"
        },
        "id": "9oBzCjaffPxK",
        "outputId": "9862e976-83a1-4a0d-9d32-6a270465c6cf"
      },
      "execution_count": 28,
      "outputs": [
        {
          "output_type": "stream",
          "name": "stdout",
          "text": [
            "                                      DRG Definition  Provider ID  \\\n",
            "0           039 - EXTRACRANIAL PROCEDURES W/O CC/MCC        10001   \n",
            "1  057 - DEGENERATIVE NERVOUS SYSTEM DISORDERS W/...        10001   \n",
            "2  064 - INTRACRANIAL HEMORRHAGE OR CEREBRAL INFA...        10001   \n",
            "3  065 - INTRACRANIAL HEMORRHAGE OR CEREBRAL INFA...        10001   \n",
            "4  066 - INTRACRANIAL HEMORRHAGE OR CEREBRAL INFA...        10001   \n",
            "\n",
            "                      Provider Name Provider Street Address Provider City  \\\n",
            "0  SOUTHEAST ALABAMA MEDICAL CENTER  1108 ROSS CLARK CIRCLE        DOTHAN   \n",
            "1  SOUTHEAST ALABAMA MEDICAL CENTER  1108 ROSS CLARK CIRCLE        DOTHAN   \n",
            "2  SOUTHEAST ALABAMA MEDICAL CENTER  1108 ROSS CLARK CIRCLE        DOTHAN   \n",
            "3  SOUTHEAST ALABAMA MEDICAL CENTER  1108 ROSS CLARK CIRCLE        DOTHAN   \n",
            "4  SOUTHEAST ALABAMA MEDICAL CENTER  1108 ROSS CLARK CIRCLE        DOTHAN   \n",
            "\n",
            "  Provider State Provider Zip Code Hospital Referral Region Description  \\\n",
            "0             AL           36301.0                          AL - Dothan   \n",
            "1             AL           36301.0                          AL - Dothan   \n",
            "2             AL           36301.0                          AL - Dothan   \n",
            "3             AL           36301.0                          AL - Dothan   \n",
            "4             AL           36301.0                          AL - Dothan   \n",
            "\n",
            "   Total Discharges  Average Covered Charges  ...  Emergency Services  \\\n",
            "0              91.0                 32963.07  ...                 Yes   \n",
            "1              38.0                 20312.78  ...                 Yes   \n",
            "2              84.0                 38820.39  ...                 Yes   \n",
            "3             169.0                 27345.10  ...                 Yes   \n",
            "4              33.0                 17605.51  ...                 Yes   \n",
            "\n",
            "   Meets criteria for meaningful use of EHRs Hospital overall rating  \\\n",
            "0                                          Y                       3   \n",
            "1                                          Y                       3   \n",
            "2                                          Y                       3   \n",
            "3                                          Y                       3   \n",
            "4                                          Y                       3   \n",
            "\n",
            "  Mortality national comparison Safety of care national comparison  \\\n",
            "0  Same as the national average         Above the national average   \n",
            "1  Same as the national average         Above the national average   \n",
            "2  Same as the national average         Above the national average   \n",
            "3  Same as the national average         Above the national average   \n",
            "4  Same as the national average         Above the national average   \n",
            "\n",
            "  Readmission national comparison Patient experience national comparison  \\\n",
            "0    Same as the national average             Below the national average   \n",
            "1    Same as the national average             Below the national average   \n",
            "2    Same as the national average             Below the national average   \n",
            "3    Same as the national average             Below the national average   \n",
            "4    Same as the national average             Below the national average   \n",
            "\n",
            "  Effectiveness of care national comparison  \\\n",
            "0              Same as the national average   \n",
            "1              Same as the national average   \n",
            "2              Same as the national average   \n",
            "3              Same as the national average   \n",
            "4              Same as the national average   \n",
            "\n",
            "  Timeliness of care national comparison  \\\n",
            "0           Same as the national average   \n",
            "1           Same as the national average   \n",
            "2           Same as the national average   \n",
            "3           Same as the national average   \n",
            "4           Same as the national average   \n",
            "\n",
            "  Efficient use of medical imaging national comparison  \n",
            "0                       Same as the national average    \n",
            "1                       Same as the national average    \n",
            "2                       Same as the national average    \n",
            "3                       Same as the national average    \n",
            "4                       Same as the national average    \n",
            "\n",
            "[5 rows x 31 columns]\n",
            "Total Missing Values: 0\n"
          ]
        }
      ]
    },
    {
      "cell_type": "code",
      "source": [
        "import matplotlib.pyplot as plt\n",
        "import seaborn as sns\n",
        "import pandas as pd\n",
        "\n",
        "# ✅ Summary Statistics of Financial & Performance Metrics\n",
        "summary_stats = df_cleaned.describe()\n",
        "print(\"Summary Statistics:\\n\", summary_stats.to_string())\n",
        "\n",
        "# ✅ Identify Outliers in Hospital Charges & Payments\n",
        "plt.figure(figsize=(12, 6))\n",
        "sns.boxplot(data=df_cleaned[[\"Average Covered Charges\", \"Average Total Payments\", \"Average Medicare Payments\"]])\n",
        "plt.title(\"Distribution of Hospital Charges & Payments\")\n",
        "plt.xticks(rotation=15)\n",
        "plt.show()\n",
        "\n",
        "# ✅ Find Top & Bottom Hospitals by Cost & Performance\n",
        "# Top 10 Hospitals by Highest Charges\n",
        "top_charging_hospitals = df_cleaned.nlargest(10, \"Average Covered Charges\")[[\"Provider Name\", \"Average Covered Charges\", \"Average Total Payments\"]]\n",
        "\n",
        "# Bottom 10 Hospitals by Lowest Charges\n",
        "bottom_charging_hospitals = df_cleaned.nsmallest(10, \"Average Covered Charges\")[[\"Provider Name\", \"Average Covered Charges\", \"Average Total Payments\"]]\n",
        "\n",
        "# ✅ Display Results in Text Form\n",
        "print(\"\\n🔹 Top 10 Highest Charging Hospitals:\\n\", top_charging_hospitals.to_string())\n",
        "print(\"\\n🔹 Top 10 Lowest Charging Hospitals:\\n\", bottom_charging_hospitals.to_string())\n"
      ],
      "metadata": {
        "colab": {
          "base_uri": "https://localhost:8080/",
          "height": 1000
        },
        "id": "EXGkxzWHgM5X",
        "outputId": "a084b8aa-342c-4082-b6d3-ed9ae287642e"
      },
      "execution_count": 30,
      "outputs": [
        {
          "output_type": "stream",
          "name": "stdout",
          "text": [
            "Summary Statistics:\n",
            "          Provider ID  Total Discharges  Average Covered Charges  Average Total Payments  Average Medicare Payments\n",
            "count  164768.000000     164768.000000            164768.000000           164768.000000              164768.000000\n",
            "mean   255860.214611         42.613244             36021.417248             9681.702929                8470.346344\n",
            "std    151613.706029         50.864288             34901.057969             7629.098490                7275.431729\n",
            "min     10001.000000         11.000000              2459.400000             2673.000000                1148.900000\n",
            "25%    110107.000000         17.000000             16028.545000             5254.907500                4212.090000\n",
            "50%    250010.000000         27.000000             25245.820000             7214.100000                6158.460000\n",
            "75%    380090.000000         49.000000             42953.285000            11227.752500               10003.255000\n",
            "max    670118.000000       3383.000000            929118.900000           156158.180000              154620.810000\n"
          ]
        },
        {
          "output_type": "display_data",
          "data": {
            "text/plain": [
              "<Figure size 1200x600 with 1 Axes>"
            ],
            "image/png": "[encoded data removed]"
          },
          "metadata": {}
        },
        {
          "output_type": "stream",
          "name": "stdout",
          "text": [
            "\n",
            "🔹 Top 10 Highest Charging Hospitals:\n",
            "                                    Provider Name  Average Covered Charges  Average Total Payments\n",
            "17895                          STANFORD HOSPITAL                929118.90               156158.18\n",
            "13626                        WASHINGTON HOSPITAL                918023.18               119113.00\n",
            "17959                          STANFORD HOSPITAL                637377.71               109945.57\n",
            "17011                    NORTHBAY MEDICAL CENTER                628730.40                84617.90\n",
            "124447                TEMPLE UNIVERSITY HOSPITAL                613926.60                80549.67\n",
            "97053        MEADOWLANDS HOSPITAL MEDICAL CENTER                602981.37                55592.97\n",
            "20428                CEDARS-SINAI MEDICAL CENTER                596878.02                90466.26\n",
            "129464             CROZER CHESTER MEDICAL CENTER                596410.26                49760.60\n",
            "129395             CROZER CHESTER MEDICAL CENTER                581801.92                48210.71\n",
            "94630   CAPITAL HEALTH MEDICAL CENTER - HOPEWELL                578212.75                62362.50\n",
            "\n",
            "🔹 Top 10 Lowest Charging Hospitals:\n",
            "                                Provider Name  Average Covered Charges  Average Total Payments\n",
            "144857           LAKE WHITNEY MEDICAL CENTER                  2459.40                 2901.26\n",
            "65879           EAST CARROLL PARISH HOSPITAL                  2521.37                 4413.50\n",
            "2504               ELMORE COMMUNITY HOSPITAL                  2536.69                 4228.47\n",
            "66019         GREEN CLINIC SURGICAL HOSPITAL                  2701.72                 2821.00\n",
            "144863           LAKE WHITNEY MEDICAL CENTER                  2749.94                 4784.51\n",
            "83488   SHARKEY ISSAQUENA COMMUNITY HOSPITAL                  2795.81                 5615.00\n",
            "7048          JOHN ED CHAMBERS MEM HOSP, INC                  2956.50                 3221.35\n",
            "150194            COMMUNITY GENERAL HOSPITAL                  2995.61                 3623.44\n",
            "70332              ATLANTIC GENERAL HOSPITAL                  3069.66                 2970.93\n",
            "1509                      GEORGIANA HOSPITAL                  3113.76                 3676.92\n"
          ]
        }
      ]
    }
  ],
  "metadata": {
    "colab": {
      "name": "Welcome To Colab",
      "provenance": [],
      "include_colab_link": true
    },
    "kernelspec": {
      "display_name": "Python 3",
      "name": "python3"
    }
  },
  "nbformat": 4,
  "nbformat_minor": 0
}